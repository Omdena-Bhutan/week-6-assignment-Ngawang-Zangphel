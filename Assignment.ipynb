{
  "nbformat": 4,
  "nbformat_minor": 0,
  "metadata": {
    "colab": {
      "provenance": [],
      "authorship_tag": "ABX9TyNkhl+HlOnyuvtBKcdnUYPi",
      "include_colab_link": true
    },
    "kernelspec": {
      "name": "python3",
      "display_name": "Python 3"
    },
    "language_info": {
      "name": "python"
    }
  },
  "cells": [
    {
      "cell_type": "markdown",
      "metadata": {
        "id": "view-in-github",
        "colab_type": "text"
      },
      "source": [
        "<a href=\"https://colab.research.google.com/github/Omdena-Bhutan/week-6-assignment-Ngawang-Zangphel/blob/main/Assignment.ipynb\" target=\"_parent\"><img src=\"https://colab.research.google.com/assets/colab-badge.svg\" alt=\"Open In Colab\"/></a>"
      ]
    },
    {
      "cell_type": "markdown",
      "source": [
        "# 1. Control Flows"
      ],
      "metadata": {
        "id": "Aix4dnmFAnHa"
      }
    },
    {
      "cell_type": "markdown",
      "source": [
        "1. Conditional Statements"
      ],
      "metadata": {
        "id": "KzV2R6rsBBCe"
      }
    },
    {
      "cell_type": "code",
      "execution_count": null,
      "metadata": {
        "colab": {
          "base_uri": "https://localhost:8080/"
        },
        "id": "CHuATV1zAjd6",
        "outputId": "4504ec8d-c408-4df3-febe-1b07ff10122b"
      },
      "outputs": [
        {
          "output_type": "stream",
          "name": "stdout",
          "text": [
            "Your age: 60\n",
            "Your ticket price is AMT: 400\n"
          ]
        }
      ],
      "source": [
        "age = int(input(\"Your age (in Years): \"))\n",
        "ticket_price = 0\n",
        "if age < 12:\n",
        "  ticket_price = 300\n",
        "elif age >= 12 and age <= 17:\n",
        "  ticket_price = 500\n",
        "elif age >= 18 and age <= 59:\n",
        "  ticket_price = 800\n",
        "else:\n",
        "  ticket_price = 400\n",
        "print(f\"Your ticket price is AMT: {ticket_price}\")\n"
      ]
    },
    {
      "cell_type": "markdown",
      "source": [
        "2. Loops"
      ],
      "metadata": {
        "id": "hxVaGwH5AlFN"
      }
    },
    {
      "cell_type": "code",
      "source": [
        "secret_number = 9\n",
        "while True:\n",
        "  guess = int(input(\"Guess a number: \"))\n",
        "  if guess == secret_number:\n",
        "    print(\"Congratulations, you gazed it right\")\n",
        "    break\n",
        "  print(\"Try Again!\")"
      ],
      "metadata": {
        "colab": {
          "base_uri": "https://localhost:8080/"
        },
        "id": "wvQDDZvaCRXn",
        "outputId": "d90bc937-a2b9-46b6-d82e-fc8cf2765cc7"
      },
      "execution_count": null,
      "outputs": [
        {
          "output_type": "stream",
          "name": "stdout",
          "text": [
            "Guess a number: 1\n",
            "Try Again!\n",
            "Guess a number: 3\n",
            "Try Again!\n",
            "Guess a number: 9\n",
            "Congratulations, you gazed it right\n"
          ]
        }
      ]
    },
    {
      "cell_type": "markdown",
      "source": [
        "# 2. Functions"
      ],
      "metadata": {
        "id": "ydTGb_gDC6VP"
      }
    },
    {
      "cell_type": "markdown",
      "source": [
        "1. Research"
      ],
      "metadata": {
        "id": "8IxX4fvNDc48"
      }
    },
    {
      "cell_type": "markdown",
      "source": [
        "i. How to write Keyword Arguments?\n",
        "  - You can pass arguments to a function using keywords (age=value). This makes your code clearer and allows you to skip order if needed."
      ],
      "metadata": {
        "id": "Sjz5GXUNDgzM"
      }
    },
    {
      "cell_type": "code",
      "source": [
        "#Example:\n",
        "# Function\n",
        "def test(name, age):\n",
        "  print(f\"name given is {name} and age is {age}\\n\")\n",
        "#1. Normally\n",
        "print(\"------Normally-------\")\n",
        "test(\"Test 1\", 12)\n",
        "\n",
        "#2. If without using Keyword Argument\n",
        "print(\"------Without using Keyword Argument-------\")\n",
        "test(12, \"Test 1\")\n",
        "\n",
        "#3. Using Keyword Argument\n",
        "print(\"------ Using Keyword Argument-------\")\n",
        "test(age=12, name=\"Test 1\")\n",
        "\n"
      ],
      "metadata": {
        "colab": {
          "base_uri": "https://localhost:8080/"
        },
        "id": "bP7-GX94C_3D",
        "outputId": "a573a92e-abd7-4c0f-f798-84844253e7eb"
      },
      "execution_count": null,
      "outputs": [
        {
          "output_type": "stream",
          "name": "stdout",
          "text": [
            "------Normally-------\n",
            "name given is Test 1 and age is 12\n",
            "\n",
            "------Without using Keyword Argument-------\n",
            "name given is 12 and age is Test 1\n",
            "\n",
            "------ Using Keyword Argument-------\n",
            "name given is Test 1 and age is 12\n",
            "\n"
          ]
        }
      ]
    },
    {
      "cell_type": "markdown",
      "source": [
        "ii. Variable number of arguments\n",
        "\n",
        "  a. *args\n",
        "  - It collects extra positional arguments into a tuple."
      ],
      "metadata": {
        "id": "xD34v402Eyc9"
      }
    },
    {
      "cell_type": "code",
      "source": [
        "#Example\n",
        "\n",
        "def names(*names):\n",
        "  print(type(names))\n",
        "  print(names)\n",
        "\n",
        "names(\"Test 1\", \"Test 2\", \"Test 3\")"
      ],
      "metadata": {
        "colab": {
          "base_uri": "https://localhost:8080/"
        },
        "id": "2KoFaTXxFj2m",
        "outputId": "e62e946c-dad8-4b7a-a821-919e43866acd"
      },
      "execution_count": null,
      "outputs": [
        {
          "output_type": "stream",
          "name": "stdout",
          "text": [
            "<class 'tuple'>\n",
            "('Test 1', 'Test 2', 'Test 3')\n"
          ]
        }
      ]
    },
    {
      "cell_type": "markdown",
      "source": [
        "  b. **kwargs\n",
        "\n",
        "- It collects extra keyword arguments into a dictionary."
      ],
      "metadata": {
        "id": "pxWeHfOaF82W"
      }
    },
    {
      "cell_type": "code",
      "source": [
        "#Example\n",
        "def profile(**details):\n",
        "    print(type(details))\n",
        "    print(details)\n",
        "\n",
        "profile(name=\"Test 1\", age=25, city=\"Thimphu\")"
      ],
      "metadata": {
        "colab": {
          "base_uri": "https://localhost:8080/"
        },
        "id": "ic4O_ERxGIit",
        "outputId": "8c1fa734-715c-4636-a0b5-fd41d2a5efe8"
      },
      "execution_count": null,
      "outputs": [
        {
          "output_type": "stream",
          "name": "stdout",
          "text": [
            "<class 'dict'>\n",
            "{'name': 'Test 1', 'age': 25, 'city': 'Thimphu'}\n"
          ]
        }
      ]
    },
    {
      "cell_type": "markdown",
      "source": [
        "2. Calculator"
      ],
      "metadata": {
        "id": "sgbkmDjqG4Cr"
      }
    },
    {
      "cell_type": "code",
      "source": [
        "marks = float(input(\"Enter your marks: \"))\n",
        "\n",
        "def calculate_grade(marks):\n",
        "  if marks >= 90:\n",
        "    return \"A\"\n",
        "  elif marks >= 80:\n",
        "    return \"B\"\n",
        "  elif marks >= 70:\n",
        "    return \"C\"\n",
        "  elif marks >= 60:\n",
        "    return \"D\"\n",
        "  else:\n",
        "    return \"F\"\n",
        "\n",
        "if (not(marks >= 0 and marks <= 100)):\n",
        "  print(\"Invalid Marks\")\n",
        "else:\n",
        "  print(f\"Your grade is {calculate_grade(marks)}\")\n"
      ],
      "metadata": {
        "colab": {
          "base_uri": "https://localhost:8080/"
        },
        "id": "bbawx1oRG72G",
        "outputId": "2218c38a-c900-4ab5-9da3-ba3b8a5c6069"
      },
      "execution_count": null,
      "outputs": [
        {
          "output_type": "stream",
          "name": "stdout",
          "text": [
            "Enter your marks: -10\n",
            "Invalid Marks\n"
          ]
        }
      ]
    }
  ]
}